{
 "cells": [
  {
   "cell_type": "code",
   "execution_count": 1,
   "id": "genetic-palace",
   "metadata": {},
   "outputs": [],
   "source": [
    "%load_ext autoreload\n",
    "%autoreload 2"
   ]
  },
  {
   "cell_type": "code",
   "execution_count": 2,
   "id": "warming-thanksgiving",
   "metadata": {},
   "outputs": [],
   "source": [
    "import numpy as np\n",
    "import torch\n",
    "import torch.nn as nn\n",
    "import torch.optim as optim"
   ]
  },
  {
   "cell_type": "code",
   "execution_count": 3,
   "id": "selected-creator",
   "metadata": {},
   "outputs": [
    {
     "data": {
      "text/plain": [
       "'cuda'"
      ]
     },
     "execution_count": 3,
     "metadata": {},
     "output_type": "execute_result"
    }
   ],
   "source": [
    "device = 'cuda' if torch.cuda.is_available() else 'cpu'\n",
    "device"
   ]
  },
  {
   "cell_type": "markdown",
   "id": "afraid-mexico",
   "metadata": {},
   "source": [
    "# SLCP experiment"
   ]
  },
  {
   "cell_type": "code",
   "execution_count": 4,
   "id": "educational-queen",
   "metadata": {},
   "outputs": [],
   "source": [
    "from simulators import SLCP\n",
    "from datasets import LTEDataset\n",
    "from models import Flatten, MNRE\n",
    "from criterions import WeightedLoss, RDLoss\n",
    "from samplers import TractableSampler, NRESampler\n",
    "from histograms import pairhist, corner, kld, remd"
   ]
  },
  {
   "cell_type": "markdown",
   "id": "spoken-league",
   "metadata": {},
   "source": [
    "## Simulator "
   ]
  },
  {
   "cell_type": "code",
   "execution_count": 5,
   "id": "median-candidate",
   "metadata": {},
   "outputs": [
    {
     "data": {
      "text/plain": [
       "(tensor([ 2.9177,  0.1338, -2.9742,  1.6339,  1.7366], device='cuda:0'),\n",
       " tensor([[-3.9109, -1.6918],\n",
       "         [ 0.8944, -0.6594],\n",
       "         [ 1.5325, -0.4307],\n",
       "         [ 9.2922,  0.6959]], device='cuda:0'))"
      ]
     },
     "execution_count": 5,
     "metadata": {},
     "output_type": "execute_result"
    }
   ],
   "source": [
    "simulator = SLCP().to(device)\n",
    "simulator.sample()"
   ]
  },
  {
   "cell_type": "code",
   "execution_count": 6,
   "id": "accessory-scholarship",
   "metadata": {},
   "outputs": [],
   "source": [
    "trainset = LTEDataset(simulator, mode=-1)"
   ]
  },
  {
   "cell_type": "markdown",
   "id": "addressed-flexibility",
   "metadata": {},
   "source": [
    "## Model"
   ]
  },
  {
   "cell_type": "code",
   "execution_count": 7,
   "id": "capable-pressing",
   "metadata": {
    "scrolled": true
   },
   "outputs": [
    {
     "data": {
      "text/plain": [
       "tensor([[False, False, False,  True,  True],\n",
       "        [False, False,  True,  True,  True],\n",
       "        [ True,  True,  True,  True,  True]])"
      ]
     },
     "execution_count": 7,
     "metadata": {},
     "output_type": "execute_result"
    }
   ],
   "source": [
    "joint_subsets = torch.tensor([\n",
    "    [False, False, False, True, True],\n",
    "    [False, False, True, True, True],\n",
    "    [True, True, True, True, True]\n",
    "])\n",
    "\n",
    "joint_subsets"
   ]
  },
  {
   "cell_type": "code",
   "execution_count": 8,
   "id": "single-waterproof",
   "metadata": {},
   "outputs": [],
   "source": [
    "model = MNRE(masks=joint_subsets, encoder=Flatten((4, 2)), num_layers=10, hidden_size=512, activation=nn.SELU).to(device)\n",
    "criterion = WeightedLoss(RDLoss(), .001).to(device)\n",
    "optimizer = optim.Adam(model.parameters(), lr=1e-5, amsgrad=True)"
   ]
  },
  {
   "cell_type": "code",
   "execution_count": 9,
   "id": "virtual-frost",
   "metadata": {},
   "outputs": [
    {
     "data": {
      "text/plain": [
       "<All keys matched successfully>"
      ]
     },
     "execution_count": 9,
     "metadata": {},
     "output_type": "execute_result"
    }
   ],
   "source": [
    "model.load_state_dict(torch.load('mnre.pth', map_location=device))"
   ]
  },
  {
   "cell_type": "markdown",
   "id": "thermal-replica",
   "metadata": {},
   "source": [
    "## Metropolis-Hastings"
   ]
  },
  {
   "cell_type": "code",
   "execution_count": 10,
   "id": "graduate-actress",
   "metadata": {},
   "outputs": [],
   "source": [
    "low = simulator.low.cpu()\n",
    "high = simulator.high.cpu()"
   ]
  },
  {
   "cell_type": "code",
   "execution_count": 11,
   "id": "aggressive-africa",
   "metadata": {},
   "outputs": [],
   "source": [
    "theta_star = torch.tensor([0.7, -2.9, -1., -0.9,  0.6]).to(device)\n",
    "x_star = torch.tensor([\n",
    "    [-0.48406151, -3.13977371],\n",
    "    [-0.43098274, -3.50238278],\n",
    "    [-0.03512463, -2.87554796],\n",
    "    [ 1.43279532, -2.80650507]\n",
    "]).to(device)"
   ]
  },
  {
   "cell_type": "markdown",
   "id": "considered-cholesterol",
   "metadata": {},
   "source": [
    "### Likelihood"
   ]
  },
  {
   "cell_type": "code",
   "execution_count": 12,
   "id": "analyzed-above",
   "metadata": {},
   "outputs": [],
   "source": [
    "sampler = TractableSampler(simulator, x_star, 2 ** 12, sigma=0.1)\n",
    "samples = sampler(2 ** 8, 2 ** 4)\n",
    "hists_lhd = pairhist(samples, low, high, bins=100, normed=True, bounded=True)"
   ]
  },
  {
   "cell_type": "markdown",
   "id": "found-heather",
   "metadata": {},
   "source": [
    "### MNRE"
   ]
  },
  {
   "cell_type": "code",
   "execution_count": 17,
   "id": "accessible-mission",
   "metadata": {},
   "outputs": [
    {
     "name": "stdout",
     "output_type": "stream",
     "text": [
      "tensor([-0.4841, -3.1398, -0.4310, -3.5024, -0.0351, -2.8755,  1.4328, -2.8065],\n",
      "       device='cuda:0')\n"
     ]
    }
   ],
   "source": [
    "model.eval()\n",
    "z_star = model.encoder(x_star)"
   ]
  },
  {
   "cell_type": "markdown",
   "id": "voluntary-architect",
   "metadata": {},
   "source": [
    "#### All"
   ]
  },
  {
   "cell_type": "code",
   "execution_count": 14,
   "id": "later-workstation",
   "metadata": {},
   "outputs": [],
   "source": [
    "_, nre = model[2]"
   ]
  },
  {
   "cell_type": "code",
   "execution_count": 15,
   "id": "prerequisite-queen",
   "metadata": {},
   "outputs": [],
   "source": [
    "sampler = NRESampler(simulator.prior, nre, z_star, 2 ** 16, sigma=0.1)\n",
    "samples = sampler(2 ** 8)\n",
    "hists_all = pairhist(samples, low, high, bins=100, normed=True, bounded=True)"
   ]
  },
  {
   "cell_type": "code",
   "execution_count": 16,
   "id": "conscious-lambda",
   "metadata": {},
   "outputs": [
    {
     "name": "stdout",
     "output_type": "stream",
     "text": [
      "KL = tensor(0.0330)\n",
      "EMD = tensor(0.0456)\n"
     ]
    }
   ],
   "source": [
    "print('KL =', kld(hists_lhd[4][3], hists_all[4][3]))\n",
    "print('EMD =', remd(hists_lhd[4][3], hists_all[4][3]))"
   ]
  },
  {
   "cell_type": "markdown",
   "id": "great-poetry",
   "metadata": {},
   "source": [
    "#### 4 & 5"
   ]
  },
  {
   "cell_type": "code",
   "execution_count": 18,
   "id": "aboriginal-shore",
   "metadata": {},
   "outputs": [],
   "source": [
    "mask, nre = model[0]\n",
    "mask = mask.cpu()"
   ]
  },
  {
   "cell_type": "code",
   "execution_count": 19,
   "id": "welcome-voice",
   "metadata": {},
   "outputs": [],
   "source": [
    "sampler = NRESampler(simulator.subprior(mask), nre, z_star, 2 ** 16, sigma=0.1)\n",
    "samples = sampler(2 ** 8)\n",
    "hists_45 = pairhist(samples, low[mask], high[mask], bins=100, normed=True, bounded=True)"
   ]
  },
  {
   "cell_type": "code",
   "execution_count": 20,
   "id": "bright-trunk",
   "metadata": {},
   "outputs": [
    {
     "name": "stdout",
     "output_type": "stream",
     "text": [
      "KL = tensor(0.8700)\n",
      "EMD = tensor(0.1430)\n"
     ]
    }
   ],
   "source": [
    "print('KL =', kld(hists_lhd[4][3], hists_45[1][0]))\n",
    "print('EMD =', remd(hists_lhd[4][3], hists_45[1][0]))"
   ]
  },
  {
   "cell_type": "code",
   "execution_count": 21,
   "id": "tough-batch",
   "metadata": {},
   "outputs": [
    {
     "name": "stdout",
     "output_type": "stream",
     "text": [
      "KL = tensor(0.8551)\n",
      "EMD = tensor(0.1450)\n"
     ]
    }
   ],
   "source": [
    "print('KL =', kld(hists_all[4][3], hists_45[1][0]))\n",
    "print('EMD =', remd(hists_all[4][3], hists_45[1][0]))"
   ]
  },
  {
   "cell_type": "markdown",
   "id": "potential-reaction",
   "metadata": {},
   "source": [
    "#### 3, 4 & 5"
   ]
  },
  {
   "cell_type": "code",
   "execution_count": 22,
   "id": "extra-wales",
   "metadata": {},
   "outputs": [],
   "source": [
    "mask, nre = model[1]\n",
    "mask = mask.cpu()"
   ]
  },
  {
   "cell_type": "code",
   "execution_count": 28,
   "id": "orange-dylan",
   "metadata": {},
   "outputs": [],
   "source": [
    "sampler = NRESampler(simulator.subprior(mask), nre, z_star, 2 ** 16, sigma=0.1)\n",
    "samples = sampler(2 ** 8)\n",
    "hists_345 = pairhist(samples, low[mask], high[mask], bins=100, normed=True, bounded=True)"
   ]
  },
  {
   "cell_type": "code",
   "execution_count": 29,
   "id": "found-prototype",
   "metadata": {},
   "outputs": [
    {
     "name": "stdout",
     "output_type": "stream",
     "text": [
      "KL = tensor(0.7598)\n",
      "EMD = tensor(0.1396)\n"
     ]
    }
   ],
   "source": [
    "print('KL =', kld(hists_lhd[4][3], hists_345[2][1]))\n",
    "print('EMD =', remd(hists_lhd[4][3], hists_345[2][1]))"
   ]
  },
  {
   "cell_type": "code",
   "execution_count": 30,
   "id": "exclusive-account",
   "metadata": {},
   "outputs": [
    {
     "name": "stdout",
     "output_type": "stream",
     "text": [
      "KL = tensor(0.7029)\n",
      "EMD = tensor(0.1349)\n"
     ]
    }
   ],
   "source": [
    "print('KL =', kld(hists_all[4][3], hists_345[2][1]))\n",
    "print('EMD =', remd(hists_all[4][3], hists_345[2][1]))"
   ]
  },
  {
   "cell_type": "markdown",
   "id": "peaceful-converter",
   "metadata": {},
   "source": [
    "## Distillation"
   ]
  },
  {
   "cell_type": "code",
   "execution_count": null,
   "id": "numerical-sustainability",
   "metadata": {
    "scrolled": false
   },
   "outputs": [],
   "source": [
    "model.train()\n",
    "\n",
    "epoch = 0\n",
    "epoch_size = 256\n",
    "\n",
    "losses = []\n",
    "\n",
    "for thetas, xs, mask in trainset:\n",
    "    ratios = model(thetas, xs)\n",
    "    loss = criterion(ratios[:, :-1], ratios[:, -1].detach())\n",
    "\n",
    "    losses.append(loss.tolist())\n",
    "\n",
    "    optimizer.zero_grad()\n",
    "    loss.backward()\n",
    "    nn.utils.clip_grad_norm_(model.parameters(), 1.)\n",
    "    optimizer.step()\n",
    "\n",
    "    if len(losses) == epoch_size:\n",
    "        losses = torch.tensor(losses)\n",
    "\n",
    "        print(f'{epoch}: {losses.mean()} +- {losses.std()}')\n",
    "\n",
    "        epoch += 1\n",
    "        losses = []\n",
    "\n",
    "        if epoch == 50:\n",
    "            break"
   ]
  },
  {
   "cell_type": "markdown",
   "id": "informed-yahoo",
   "metadata": {},
   "source": [
    "## Metropolis-Hastings\n",
    "### MNRE"
   ]
  },
  {
   "cell_type": "code",
   "execution_count": null,
   "id": "bibliographic-binding",
   "metadata": {},
   "outputs": [],
   "source": [
    "model.eval()\n",
    "z_star = model.encoder(x_star)"
   ]
  },
  {
   "cell_type": "markdown",
   "id": "mighty-living",
   "metadata": {},
   "source": [
    "#### 4 & 5"
   ]
  },
  {
   "cell_type": "code",
   "execution_count": null,
   "id": "attached-fetish",
   "metadata": {},
   "outputs": [],
   "source": [
    "mask, nre = model[0]\n",
    "mask = mask.cpu()"
   ]
  },
  {
   "cell_type": "code",
   "execution_count": null,
   "id": "nutritional-gazette",
   "metadata": {},
   "outputs": [],
   "source": [
    "sampler = NRESampler(simulator.subprior(mask), nre, z_star, sigma=0.1)\n",
    "samples = sampler(4096)\n",
    "hists_45 = pairhist(samples, low[mask], high[mask], bins=60, normed=True, bounded=True)"
   ]
  },
  {
   "cell_type": "code",
   "execution_count": null,
   "id": "comfortable-valuation",
   "metadata": {},
   "outputs": [],
   "source": [
    "print('KL =', kld(hists_lhd[4][3], hists_45[1][0]))\n",
    "print('EMD =', remd(hists_lhd[4][3], hists_45[1][0]))"
   ]
  },
  {
   "cell_type": "code",
   "execution_count": null,
   "id": "approximate-fifteen",
   "metadata": {},
   "outputs": [],
   "source": [
    "print('KL =', kld(hists_all[4][3], hists_45[1][0]))\n",
    "print('EMD =', remd(hists_all[4][3], hists_45[1][0]))"
   ]
  },
  {
   "cell_type": "markdown",
   "id": "bridal-smith",
   "metadata": {},
   "source": [
    "#### 3, 4 & 5"
   ]
  },
  {
   "cell_type": "code",
   "execution_count": null,
   "id": "short-oracle",
   "metadata": {},
   "outputs": [],
   "source": [
    "mask, nre = model[1]\n",
    "mask = mask.cpu()"
   ]
  },
  {
   "cell_type": "code",
   "execution_count": null,
   "id": "tough-textbook",
   "metadata": {},
   "outputs": [],
   "source": [
    "sampler = NRESampler(simulator.subprior(mask), nre, z_star, sigma=0.1)\n",
    "samples = sampler(4096)\n",
    "hists_345 = pairhist(samples, low[mask], high[mask], bins=60, normed=True, bounded=True)"
   ]
  },
  {
   "cell_type": "code",
   "execution_count": null,
   "id": "approximate-operations",
   "metadata": {},
   "outputs": [],
   "source": [
    "print('KL =', kld(hists_lhd[4][3], hists_345[2][1]))\n",
    "print('EMD =', remd(hists_lhd[4][3], hists_345[2][1]))"
   ]
  },
  {
   "cell_type": "code",
   "execution_count": null,
   "id": "composite-repository",
   "metadata": {},
   "outputs": [],
   "source": [
    "print('KL =', kld(hists_all[4][3], hists_345[2][1]))\n",
    "print('EMD =', remd(hists_all[4][3], hists_345[2][1]))"
   ]
  },
  {
   "cell_type": "code",
   "execution_count": null,
   "id": "stone-replica",
   "metadata": {},
   "outputs": [],
   "source": [
    "a = torch.cat([x for x in sampler(4096)])"
   ]
  },
  {
   "cell_type": "code",
   "execution_count": null,
   "id": "dominant-wildlife",
   "metadata": {},
   "outputs": [],
   "source": [
    "a.shape"
   ]
  }
 ],
 "metadata": {
  "kernelspec": {
   "display_name": "Python 3",
   "language": "python",
   "name": "python3"
  },
  "language_info": {
   "codemirror_mode": {
    "name": "ipython",
    "version": 3
   },
   "file_extension": ".py",
   "mimetype": "text/x-python",
   "name": "python",
   "nbconvert_exporter": "python",
   "pygments_lexer": "ipython3",
   "version": "3.8.5"
  }
 },
 "nbformat": 4,
 "nbformat_minor": 5
}
