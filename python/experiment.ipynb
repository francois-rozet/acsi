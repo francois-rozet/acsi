{
 "cells": [
  {
   "cell_type": "code",
   "execution_count": 1,
   "id": "genetic-palace",
   "metadata": {},
   "outputs": [],
   "source": [
    "%load_ext autoreload\n",
    "%autoreload 2"
   ]
  },
  {
   "cell_type": "code",
   "execution_count": 2,
   "id": "warming-thanksgiving",
   "metadata": {},
   "outputs": [],
   "source": [
    "import torch\n",
    "import torch.optim as optim\n",
    "\n",
    "from torch.distributions import Independent, Uniform\n",
    "\n",
    "import matplotlib.pyplot as plt"
   ]
  },
  {
   "cell_type": "code",
   "execution_count": 3,
   "id": "selected-creator",
   "metadata": {},
   "outputs": [
    {
     "data": {
      "text/plain": [
       "'cuda'"
      ]
     },
     "execution_count": 3,
     "metadata": {},
     "output_type": "execute_result"
    }
   ],
   "source": [
    "device = 'cuda' if torch.cuda.is_available() else 'cpu'\n",
    "device"
   ]
  },
  {
   "cell_type": "markdown",
   "id": "afraid-mexico",
   "metadata": {},
   "source": [
    "# SLCP experiment"
   ]
  },
  {
   "cell_type": "code",
   "execution_count": 4,
   "id": "educational-queen",
   "metadata": {},
   "outputs": [],
   "source": [
    "from simulators import SLCP\n",
    "from datasets import LTEDataset\n",
    "from models import Flatten, MLP, MNRE\n",
    "from criterions import MNRELoss\n",
    "from samplers import TractableSampler, NRESampler"
   ]
  },
  {
   "cell_type": "markdown",
   "id": "spoken-league",
   "metadata": {},
   "source": [
    "## Simulator "
   ]
  },
  {
   "cell_type": "code",
   "execution_count": 5,
   "id": "median-candidate",
   "metadata": {},
   "outputs": [
    {
     "data": {
      "text/plain": [
       "(tensor([-2.0081, -1.9753, -2.7935, -2.8652, -2.6013], device='cuda:0'),\n",
       " tensor([[ -7.6989,   2.4847],\n",
       "         [  6.9504, -11.6552],\n",
       "         [-10.2977,   5.6007],\n",
       "         [-12.4941,   7.7435]], device='cuda:0'))"
      ]
     },
     "execution_count": 5,
     "metadata": {},
     "output_type": "execute_result"
    }
   ],
   "source": [
    "simulator = SLCP().to(device)\n",
    "simulator.sample()"
   ]
  },
  {
   "cell_type": "markdown",
   "id": "swiss-gravity",
   "metadata": {},
   "source": [
    "### Dataset"
   ]
  },
  {
   "cell_type": "code",
   "execution_count": 6,
   "id": "frozen-private",
   "metadata": {},
   "outputs": [
    {
     "data": {
      "text/plain": [
       "tensor([[ True, False, False, False, False],\n",
       "        [False,  True, False, False, False],\n",
       "        [False, False,  True, False, False],\n",
       "        [False, False, False,  True, False],\n",
       "        [False, False, False, False,  True]])"
      ]
     },
     "execution_count": 6,
     "metadata": {},
     "output_type": "execute_result"
    }
   ],
   "source": [
    "subsets = torch.eye(5).bool()\n",
    "subsets"
   ]
  },
  {
   "cell_type": "code",
   "execution_count": 7,
   "id": "capable-pressing",
   "metadata": {},
   "outputs": [
    {
     "data": {
      "text/plain": [
       "tensor([[ True, False, False, False, False],\n",
       "        [ True,  True, False, False, False],\n",
       "        [ True, False,  True, False, False],\n",
       "        [ True, False, False,  True, False],\n",
       "        [ True, False, False, False,  True],\n",
       "        [False,  True, False, False, False],\n",
       "        [False,  True,  True, False, False],\n",
       "        [False,  True, False,  True, False],\n",
       "        [False,  True, False, False,  True],\n",
       "        [False, False,  True, False, False],\n",
       "        [False, False,  True,  True, False],\n",
       "        [False, False,  True, False,  True],\n",
       "        [False, False, False,  True, False],\n",
       "        [False, False, False,  True,  True],\n",
       "        [False, False, False, False,  True]])"
      ]
     },
     "execution_count": 7,
     "metadata": {},
     "output_type": "execute_result"
    }
   ],
   "source": [
    "joint_subsets = []\n",
    "\n",
    "for i in range(5):\n",
    "    for j in range(i, 5):\n",
    "        joint_subsets.append(torch.logical_or(subsets[i], subsets[j]))\n",
    "    \n",
    "joint_subsets = torch.stack(joint_subsets)\n",
    "joint_subsets"
   ]
  },
  {
   "cell_type": "code",
   "execution_count": 8,
   "id": "original-validity",
   "metadata": {},
   "outputs": [],
   "source": [
    "trainset = LTEDataset(simulator, joint_subsets.to(device))"
   ]
  },
  {
   "cell_type": "markdown",
   "id": "addressed-flexibility",
   "metadata": {},
   "source": [
    "## Model"
   ]
  },
  {
   "cell_type": "code",
   "execution_count": 9,
   "id": "single-waterproof",
   "metadata": {},
   "outputs": [],
   "source": [
    "model = MNRE(masks=joint_subsets, encoder=Flatten((4, 2)), num_layers=6, hidden_size=128).to(device)\n",
    "criterion = MNRELoss(masks=joint_subsets).to(device)\n",
    "optimizer = optim.Adam(model.parameters(), lr=0.001, amsgrad=True)\n",
    "scheduler = optim.lr_scheduler.ReduceLROnPlateau(optimizer, factor=1e-1, patience=5, threshold=1e-2, verbose=True)"
   ]
  },
  {
   "cell_type": "code",
   "execution_count": 10,
   "id": "numerical-sustainability",
   "metadata": {
    "scrolled": false
   },
   "outputs": [
    {
     "name": "stdout",
     "output_type": "stream",
     "text": [
      "0: 6.415827751159668 +- 0.736964225769043\n",
      "1: 5.724719047546387 +- 0.6197754144668579\n",
      "2: 5.330848693847656 +- 0.559901237487793\n",
      "3: 5.124746799468994 +- 0.5638678669929504\n",
      "4: 4.956254005432129 +- 0.5445237755775452\n",
      "5: 4.824827194213867 +- 0.5088298916816711\n",
      "6: 4.728626251220703 +- 0.4947717785835266\n",
      "7: 4.723959445953369 +- 0.5174713134765625\n",
      "8: 4.561919212341309 +- 0.4836078882217407\n",
      "9: 4.448784828186035 +- 0.45901772379875183\n",
      "10: 4.4735283851623535 +- 0.48226046562194824\n",
      "11: 4.38935661315918 +- 0.483583927154541\n",
      "12: 4.367692947387695 +- 0.47742947936058044\n",
      "13: 4.257144451141357 +- 0.4575884938240051\n",
      "14: 4.268566131591797 +- 0.44641122221946716\n",
      "15: 4.230253219604492 +- 0.4471539855003357\n",
      "16: 4.250669956207275 +- 0.4938426613807678\n",
      "17: 4.15351676940918 +- 0.42806190252304077\n",
      "18: 4.196101188659668 +- 0.45207127928733826\n",
      "19: 4.132606506347656 +- 0.4601335823535919\n",
      "20: 4.130829811096191 +- 0.45046401023864746\n",
      "21: 4.108773231506348 +- 0.42710745334625244\n",
      "22: 4.079009056091309 +- 0.4342900812625885\n",
      "23: 4.053995132446289 +- 0.41446980834007263\n",
      "24: 4.053699016571045 +- 0.4297463893890381\n",
      "25: 4.047974586486816 +- 0.44982361793518066\n",
      "26: 3.9947142601013184 +- 0.42478039860725403\n",
      "27: 3.964834451675415 +- 0.44063666462898254\n",
      "28: 3.982882022857666 +- 0.4350143074989319\n",
      "29: 3.9827771186828613 +- 0.41756317019462585\n",
      "30: 3.981009006500244 +- 0.4309975206851959\n",
      "31: 3.9228227138519287 +- 0.4020901918411255\n",
      "32: 3.978358507156372 +- 0.42929360270500183\n",
      "33: 3.933048725128174 +- 0.4093874990940094\n",
      "34: 3.8936607837677 +- 0.4192960858345032\n",
      "35: 3.904916763305664 +- 0.4157366156578064\n",
      "36: 3.90544056892395 +- 0.4063456654548645\n",
      "37: 3.900118589401245 +- 0.42600083351135254\n",
      "Epoch    38: reducing learning rate of group 0 to 1.0000e-04.\n",
      "38: 3.6753859519958496 +- 0.3499939739704132\n",
      "39: 3.6867587566375732 +- 0.3703724145889282\n",
      "40: 3.7207305431365967 +- 0.43037500977516174\n",
      "41: 3.6779327392578125 +- 0.4092997908592224\n",
      "42: 3.633533000946045 +- 0.38547131419181824\n",
      "43: 3.673945188522339 +- 0.4077218174934387\n",
      "44: 3.635319232940674 +- 0.3893998861312866\n",
      "45: 3.728275775909424 +- 0.43314656615257263\n",
      "46: 3.646806001663208 +- 0.3876136541366577\n",
      "47: 3.6287879943847656 +- 0.4035414159297943\n",
      "48: 3.6267945766448975 +- 0.3863186836242676\n",
      "Epoch    49: reducing learning rate of group 0 to 1.0000e-05.\n",
      "49: 3.7025842666625977 +- 0.4204750955104828\n",
      "50: 3.621519088745117 +- 0.40351083874702454\n",
      "51: 3.615945816040039 +- 0.39980506896972656\n",
      "52: 3.6580936908721924 +- 0.3870554566383362\n",
      "53: 3.647263288497925 +- 0.4118679463863373\n",
      "54: 3.5671582221984863 +- 0.34058046340942383\n",
      "55: 3.6459078788757324 +- 0.4184475243091583\n",
      "56: 3.653787612915039 +- 0.38956916332244873\n",
      "57: 3.649545669555664 +- 0.42541739344596863\n",
      "58: 3.6305344104766846 +- 0.38161343336105347\n",
      "59: 3.603651523590088 +- 0.3728831708431244\n",
      "60: 3.645195722579956 +- 0.40591421723365784\n",
      "Epoch    61: reducing learning rate of group 0 to 1.0000e-06.\n"
     ]
    }
   ],
   "source": [
    "model.train()\n",
    "\n",
    "epoch = 0\n",
    "epoch_size = 256\n",
    "\n",
    "losses = []\n",
    "\n",
    "for thetas, xs, mask in trainset:    \n",
    "    ratios = model(thetas, xs)\n",
    "    loss = criterion(ratios, mask)\n",
    "\n",
    "    losses.append(loss.tolist())\n",
    "\n",
    "    optimizer.zero_grad()\n",
    "    loss.backward()\n",
    "    optimizer.step()\n",
    "    \n",
    "    if len(losses) == epoch_size:\n",
    "        losses = torch.tensor(losses)\n",
    "        \n",
    "        print(f'{epoch}: {losses.mean()} +- {losses.std()}')\n",
    "        scheduler.step(losses.mean())\n",
    "        \n",
    "        epoch += 1\n",
    "        losses = []\n",
    "    \n",
    "        if optimizer.param_groups[0]['lr'] < 1e-5:\n",
    "            break"
   ]
  },
  {
   "cell_type": "code",
   "execution_count": 11,
   "id": "centered-chart",
   "metadata": {},
   "outputs": [
    {
     "data": {
      "text/plain": [
       "MNRE(\n",
       "  (encoder): Flatten()\n",
       "  (nres): ModuleList(\n",
       "    (0): NRE(\n",
       "      (0): Flatten()\n",
       "      (1): Linear(in_features=9, out_features=128, bias=True)\n",
       "      (2): PReLU(num_parameters=128)\n",
       "      (3): Identity()\n",
       "      (4): Linear(in_features=128, out_features=128, bias=True)\n",
       "      (5): PReLU(num_parameters=128)\n",
       "      (6): Identity()\n",
       "      (7): Linear(in_features=128, out_features=128, bias=True)\n",
       "      (8): PReLU(num_parameters=128)\n",
       "      (9): Identity()\n",
       "      (10): Linear(in_features=128, out_features=128, bias=True)\n",
       "      (11): PReLU(num_parameters=128)\n",
       "      (12): Identity()\n",
       "      (13): Linear(in_features=128, out_features=128, bias=True)\n",
       "      (14): PReLU(num_parameters=128)\n",
       "      (15): Identity()\n",
       "      (16): Linear(in_features=128, out_features=128, bias=True)\n",
       "      (17): PReLU(num_parameters=128)\n",
       "      (18): Identity()\n",
       "      (19): Linear(in_features=128, out_features=128, bias=True)\n",
       "      (20): PReLU(num_parameters=128)\n",
       "      (21): Identity()\n",
       "      (22): Linear(in_features=128, out_features=1, bias=True)\n",
       "    )\n",
       "    (1): NRE(\n",
       "      (0): Flatten()\n",
       "      (1): Linear(in_features=10, out_features=128, bias=True)\n",
       "      (2): PReLU(num_parameters=128)\n",
       "      (3): Identity()\n",
       "      (4): Linear(in_features=128, out_features=128, bias=True)\n",
       "      (5): PReLU(num_parameters=128)\n",
       "      (6): Identity()\n",
       "      (7): Linear(in_features=128, out_features=128, bias=True)\n",
       "      (8): PReLU(num_parameters=128)\n",
       "      (9): Identity()\n",
       "      (10): Linear(in_features=128, out_features=128, bias=True)\n",
       "      (11): PReLU(num_parameters=128)\n",
       "      (12): Identity()\n",
       "      (13): Linear(in_features=128, out_features=128, bias=True)\n",
       "      (14): PReLU(num_parameters=128)\n",
       "      (15): Identity()\n",
       "      (16): Linear(in_features=128, out_features=128, bias=True)\n",
       "      (17): PReLU(num_parameters=128)\n",
       "      (18): Identity()\n",
       "      (19): Linear(in_features=128, out_features=128, bias=True)\n",
       "      (20): PReLU(num_parameters=128)\n",
       "      (21): Identity()\n",
       "      (22): Linear(in_features=128, out_features=1, bias=True)\n",
       "    )\n",
       "    (2): NRE(\n",
       "      (0): Flatten()\n",
       "      (1): Linear(in_features=10, out_features=128, bias=True)\n",
       "      (2): PReLU(num_parameters=128)\n",
       "      (3): Identity()\n",
       "      (4): Linear(in_features=128, out_features=128, bias=True)\n",
       "      (5): PReLU(num_parameters=128)\n",
       "      (6): Identity()\n",
       "      (7): Linear(in_features=128, out_features=128, bias=True)\n",
       "      (8): PReLU(num_parameters=128)\n",
       "      (9): Identity()\n",
       "      (10): Linear(in_features=128, out_features=128, bias=True)\n",
       "      (11): PReLU(num_parameters=128)\n",
       "      (12): Identity()\n",
       "      (13): Linear(in_features=128, out_features=128, bias=True)\n",
       "      (14): PReLU(num_parameters=128)\n",
       "      (15): Identity()\n",
       "      (16): Linear(in_features=128, out_features=128, bias=True)\n",
       "      (17): PReLU(num_parameters=128)\n",
       "      (18): Identity()\n",
       "      (19): Linear(in_features=128, out_features=128, bias=True)\n",
       "      (20): PReLU(num_parameters=128)\n",
       "      (21): Identity()\n",
       "      (22): Linear(in_features=128, out_features=1, bias=True)\n",
       "    )\n",
       "    (3): NRE(\n",
       "      (0): Flatten()\n",
       "      (1): Linear(in_features=10, out_features=128, bias=True)\n",
       "      (2): PReLU(num_parameters=128)\n",
       "      (3): Identity()\n",
       "      (4): Linear(in_features=128, out_features=128, bias=True)\n",
       "      (5): PReLU(num_parameters=128)\n",
       "      (6): Identity()\n",
       "      (7): Linear(in_features=128, out_features=128, bias=True)\n",
       "      (8): PReLU(num_parameters=128)\n",
       "      (9): Identity()\n",
       "      (10): Linear(in_features=128, out_features=128, bias=True)\n",
       "      (11): PReLU(num_parameters=128)\n",
       "      (12): Identity()\n",
       "      (13): Linear(in_features=128, out_features=128, bias=True)\n",
       "      (14): PReLU(num_parameters=128)\n",
       "      (15): Identity()\n",
       "      (16): Linear(in_features=128, out_features=128, bias=True)\n",
       "      (17): PReLU(num_parameters=128)\n",
       "      (18): Identity()\n",
       "      (19): Linear(in_features=128, out_features=128, bias=True)\n",
       "      (20): PReLU(num_parameters=128)\n",
       "      (21): Identity()\n",
       "      (22): Linear(in_features=128, out_features=1, bias=True)\n",
       "    )\n",
       "    (4): NRE(\n",
       "      (0): Flatten()\n",
       "      (1): Linear(in_features=10, out_features=128, bias=True)\n",
       "      (2): PReLU(num_parameters=128)\n",
       "      (3): Identity()\n",
       "      (4): Linear(in_features=128, out_features=128, bias=True)\n",
       "      (5): PReLU(num_parameters=128)\n",
       "      (6): Identity()\n",
       "      (7): Linear(in_features=128, out_features=128, bias=True)\n",
       "      (8): PReLU(num_parameters=128)\n",
       "      (9): Identity()\n",
       "      (10): Linear(in_features=128, out_features=128, bias=True)\n",
       "      (11): PReLU(num_parameters=128)\n",
       "      (12): Identity()\n",
       "      (13): Linear(in_features=128, out_features=128, bias=True)\n",
       "      (14): PReLU(num_parameters=128)\n",
       "      (15): Identity()\n",
       "      (16): Linear(in_features=128, out_features=128, bias=True)\n",
       "      (17): PReLU(num_parameters=128)\n",
       "      (18): Identity()\n",
       "      (19): Linear(in_features=128, out_features=128, bias=True)\n",
       "      (20): PReLU(num_parameters=128)\n",
       "      (21): Identity()\n",
       "      (22): Linear(in_features=128, out_features=1, bias=True)\n",
       "    )\n",
       "    (5): NRE(\n",
       "      (0): Flatten()\n",
       "      (1): Linear(in_features=9, out_features=128, bias=True)\n",
       "      (2): PReLU(num_parameters=128)\n",
       "      (3): Identity()\n",
       "      (4): Linear(in_features=128, out_features=128, bias=True)\n",
       "      (5): PReLU(num_parameters=128)\n",
       "      (6): Identity()\n",
       "      (7): Linear(in_features=128, out_features=128, bias=True)\n",
       "      (8): PReLU(num_parameters=128)\n",
       "      (9): Identity()\n",
       "      (10): Linear(in_features=128, out_features=128, bias=True)\n",
       "      (11): PReLU(num_parameters=128)\n",
       "      (12): Identity()\n",
       "      (13): Linear(in_features=128, out_features=128, bias=True)\n",
       "      (14): PReLU(num_parameters=128)\n",
       "      (15): Identity()\n",
       "      (16): Linear(in_features=128, out_features=128, bias=True)\n",
       "      (17): PReLU(num_parameters=128)\n",
       "      (18): Identity()\n",
       "      (19): Linear(in_features=128, out_features=128, bias=True)\n",
       "      (20): PReLU(num_parameters=128)\n",
       "      (21): Identity()\n",
       "      (22): Linear(in_features=128, out_features=1, bias=True)\n",
       "    )\n",
       "    (6): NRE(\n",
       "      (0): Flatten()\n",
       "      (1): Linear(in_features=10, out_features=128, bias=True)\n",
       "      (2): PReLU(num_parameters=128)\n",
       "      (3): Identity()\n",
       "      (4): Linear(in_features=128, out_features=128, bias=True)\n",
       "      (5): PReLU(num_parameters=128)\n",
       "      (6): Identity()\n",
       "      (7): Linear(in_features=128, out_features=128, bias=True)\n",
       "      (8): PReLU(num_parameters=128)\n",
       "      (9): Identity()\n",
       "      (10): Linear(in_features=128, out_features=128, bias=True)\n",
       "      (11): PReLU(num_parameters=128)\n",
       "      (12): Identity()\n",
       "      (13): Linear(in_features=128, out_features=128, bias=True)\n",
       "      (14): PReLU(num_parameters=128)\n",
       "      (15): Identity()\n",
       "      (16): Linear(in_features=128, out_features=128, bias=True)\n",
       "      (17): PReLU(num_parameters=128)\n",
       "      (18): Identity()\n",
       "      (19): Linear(in_features=128, out_features=128, bias=True)\n",
       "      (20): PReLU(num_parameters=128)\n",
       "      (21): Identity()\n",
       "      (22): Linear(in_features=128, out_features=1, bias=True)\n",
       "    )\n",
       "    (7): NRE(\n",
       "      (0): Flatten()\n",
       "      (1): Linear(in_features=10, out_features=128, bias=True)\n",
       "      (2): PReLU(num_parameters=128)\n",
       "      (3): Identity()\n",
       "      (4): Linear(in_features=128, out_features=128, bias=True)\n",
       "      (5): PReLU(num_parameters=128)\n",
       "      (6): Identity()\n",
       "      (7): Linear(in_features=128, out_features=128, bias=True)\n",
       "      (8): PReLU(num_parameters=128)\n",
       "      (9): Identity()\n",
       "      (10): Linear(in_features=128, out_features=128, bias=True)\n",
       "      (11): PReLU(num_parameters=128)\n",
       "      (12): Identity()\n",
       "      (13): Linear(in_features=128, out_features=128, bias=True)\n",
       "      (14): PReLU(num_parameters=128)\n",
       "      (15): Identity()\n",
       "      (16): Linear(in_features=128, out_features=128, bias=True)\n",
       "      (17): PReLU(num_parameters=128)\n",
       "      (18): Identity()\n",
       "      (19): Linear(in_features=128, out_features=128, bias=True)\n",
       "      (20): PReLU(num_parameters=128)\n",
       "      (21): Identity()\n",
       "      (22): Linear(in_features=128, out_features=1, bias=True)\n",
       "    )\n",
       "    (8): NRE(\n",
       "      (0): Flatten()\n",
       "      (1): Linear(in_features=10, out_features=128, bias=True)\n",
       "      (2): PReLU(num_parameters=128)\n",
       "      (3): Identity()\n",
       "      (4): Linear(in_features=128, out_features=128, bias=True)\n",
       "      (5): PReLU(num_parameters=128)\n",
       "      (6): Identity()\n",
       "      (7): Linear(in_features=128, out_features=128, bias=True)\n",
       "      (8): PReLU(num_parameters=128)\n",
       "      (9): Identity()\n",
       "      (10): Linear(in_features=128, out_features=128, bias=True)\n",
       "      (11): PReLU(num_parameters=128)\n",
       "      (12): Identity()\n",
       "      (13): Linear(in_features=128, out_features=128, bias=True)\n",
       "      (14): PReLU(num_parameters=128)\n",
       "      (15): Identity()\n",
       "      (16): Linear(in_features=128, out_features=128, bias=True)\n",
       "      (17): PReLU(num_parameters=128)\n",
       "      (18): Identity()\n",
       "      (19): Linear(in_features=128, out_features=128, bias=True)\n",
       "      (20): PReLU(num_parameters=128)\n",
       "      (21): Identity()\n",
       "      (22): Linear(in_features=128, out_features=1, bias=True)\n",
       "    )\n",
       "    (9): NRE(\n",
       "      (0): Flatten()\n",
       "      (1): Linear(in_features=9, out_features=128, bias=True)\n",
       "      (2): PReLU(num_parameters=128)\n",
       "      (3): Identity()\n",
       "      (4): Linear(in_features=128, out_features=128, bias=True)\n",
       "      (5): PReLU(num_parameters=128)\n",
       "      (6): Identity()\n",
       "      (7): Linear(in_features=128, out_features=128, bias=True)\n",
       "      (8): PReLU(num_parameters=128)\n",
       "      (9): Identity()\n",
       "      (10): Linear(in_features=128, out_features=128, bias=True)\n",
       "      (11): PReLU(num_parameters=128)\n",
       "      (12): Identity()\n",
       "      (13): Linear(in_features=128, out_features=128, bias=True)\n",
       "      (14): PReLU(num_parameters=128)\n",
       "      (15): Identity()\n",
       "      (16): Linear(in_features=128, out_features=128, bias=True)\n",
       "      (17): PReLU(num_parameters=128)\n",
       "      (18): Identity()\n",
       "      (19): Linear(in_features=128, out_features=128, bias=True)\n",
       "      (20): PReLU(num_parameters=128)\n",
       "      (21): Identity()\n",
       "      (22): Linear(in_features=128, out_features=1, bias=True)\n",
       "    )\n",
       "    (10): NRE(\n",
       "      (0): Flatten()\n",
       "      (1): Linear(in_features=10, out_features=128, bias=True)\n",
       "      (2): PReLU(num_parameters=128)\n",
       "      (3): Identity()\n",
       "      (4): Linear(in_features=128, out_features=128, bias=True)\n",
       "      (5): PReLU(num_parameters=128)\n",
       "      (6): Identity()\n",
       "      (7): Linear(in_features=128, out_features=128, bias=True)\n",
       "      (8): PReLU(num_parameters=128)\n",
       "      (9): Identity()\n",
       "      (10): Linear(in_features=128, out_features=128, bias=True)\n",
       "      (11): PReLU(num_parameters=128)\n",
       "      (12): Identity()\n",
       "      (13): Linear(in_features=128, out_features=128, bias=True)\n",
       "      (14): PReLU(num_parameters=128)\n",
       "      (15): Identity()\n",
       "      (16): Linear(in_features=128, out_features=128, bias=True)\n",
       "      (17): PReLU(num_parameters=128)\n",
       "      (18): Identity()\n",
       "      (19): Linear(in_features=128, out_features=128, bias=True)\n",
       "      (20): PReLU(num_parameters=128)\n",
       "      (21): Identity()\n",
       "      (22): Linear(in_features=128, out_features=1, bias=True)\n",
       "    )\n",
       "    (11): NRE(\n",
       "      (0): Flatten()\n",
       "      (1): Linear(in_features=10, out_features=128, bias=True)\n",
       "      (2): PReLU(num_parameters=128)\n",
       "      (3): Identity()\n",
       "      (4): Linear(in_features=128, out_features=128, bias=True)\n",
       "      (5): PReLU(num_parameters=128)\n",
       "      (6): Identity()\n",
       "      (7): Linear(in_features=128, out_features=128, bias=True)\n",
       "      (8): PReLU(num_parameters=128)\n",
       "      (9): Identity()\n",
       "      (10): Linear(in_features=128, out_features=128, bias=True)\n",
       "      (11): PReLU(num_parameters=128)\n",
       "      (12): Identity()\n",
       "      (13): Linear(in_features=128, out_features=128, bias=True)\n",
       "      (14): PReLU(num_parameters=128)\n",
       "      (15): Identity()\n",
       "      (16): Linear(in_features=128, out_features=128, bias=True)\n",
       "      (17): PReLU(num_parameters=128)\n",
       "      (18): Identity()\n",
       "      (19): Linear(in_features=128, out_features=128, bias=True)\n",
       "      (20): PReLU(num_parameters=128)\n",
       "      (21): Identity()\n",
       "      (22): Linear(in_features=128, out_features=1, bias=True)\n",
       "    )\n",
       "    (12): NRE(\n",
       "      (0): Flatten()\n",
       "      (1): Linear(in_features=9, out_features=128, bias=True)\n",
       "      (2): PReLU(num_parameters=128)\n",
       "      (3): Identity()\n",
       "      (4): Linear(in_features=128, out_features=128, bias=True)\n",
       "      (5): PReLU(num_parameters=128)\n",
       "      (6): Identity()\n",
       "      (7): Linear(in_features=128, out_features=128, bias=True)\n",
       "      (8): PReLU(num_parameters=128)\n",
       "      (9): Identity()\n",
       "      (10): Linear(in_features=128, out_features=128, bias=True)\n",
       "      (11): PReLU(num_parameters=128)\n",
       "      (12): Identity()\n",
       "      (13): Linear(in_features=128, out_features=128, bias=True)\n",
       "      (14): PReLU(num_parameters=128)\n",
       "      (15): Identity()\n",
       "      (16): Linear(in_features=128, out_features=128, bias=True)\n",
       "      (17): PReLU(num_parameters=128)\n",
       "      (18): Identity()\n",
       "      (19): Linear(in_features=128, out_features=128, bias=True)\n",
       "      (20): PReLU(num_parameters=128)\n",
       "      (21): Identity()\n",
       "      (22): Linear(in_features=128, out_features=1, bias=True)\n",
       "    )\n",
       "    (13): NRE(\n",
       "      (0): Flatten()\n",
       "      (1): Linear(in_features=10, out_features=128, bias=True)\n",
       "      (2): PReLU(num_parameters=128)\n",
       "      (3): Identity()\n",
       "      (4): Linear(in_features=128, out_features=128, bias=True)\n",
       "      (5): PReLU(num_parameters=128)\n",
       "      (6): Identity()\n",
       "      (7): Linear(in_features=128, out_features=128, bias=True)\n",
       "      (8): PReLU(num_parameters=128)\n",
       "      (9): Identity()\n",
       "      (10): Linear(in_features=128, out_features=128, bias=True)\n",
       "      (11): PReLU(num_parameters=128)\n",
       "      (12): Identity()\n",
       "      (13): Linear(in_features=128, out_features=128, bias=True)\n",
       "      (14): PReLU(num_parameters=128)\n",
       "      (15): Identity()\n",
       "      (16): Linear(in_features=128, out_features=128, bias=True)\n",
       "      (17): PReLU(num_parameters=128)\n",
       "      (18): Identity()\n",
       "      (19): Linear(in_features=128, out_features=128, bias=True)\n",
       "      (20): PReLU(num_parameters=128)\n",
       "      (21): Identity()\n",
       "      (22): Linear(in_features=128, out_features=1, bias=True)\n",
       "    )\n",
       "    (14): NRE(\n",
       "      (0): Flatten()\n",
       "      (1): Linear(in_features=9, out_features=128, bias=True)\n",
       "      (2): PReLU(num_parameters=128)\n",
       "      (3): Identity()\n",
       "      (4): Linear(in_features=128, out_features=128, bias=True)\n",
       "      (5): PReLU(num_parameters=128)\n",
       "      (6): Identity()\n",
       "      (7): Linear(in_features=128, out_features=128, bias=True)\n",
       "      (8): PReLU(num_parameters=128)\n",
       "      (9): Identity()\n",
       "      (10): Linear(in_features=128, out_features=128, bias=True)\n",
       "      (11): PReLU(num_parameters=128)\n",
       "      (12): Identity()\n",
       "      (13): Linear(in_features=128, out_features=128, bias=True)\n",
       "      (14): PReLU(num_parameters=128)\n",
       "      (15): Identity()\n",
       "      (16): Linear(in_features=128, out_features=128, bias=True)\n",
       "      (17): PReLU(num_parameters=128)\n",
       "      (18): Identity()\n",
       "      (19): Linear(in_features=128, out_features=128, bias=True)\n",
       "      (20): PReLU(num_parameters=128)\n",
       "      (21): Identity()\n",
       "      (22): Linear(in_features=128, out_features=1, bias=True)\n",
       "    )\n",
       "  )\n",
       ")"
      ]
     },
     "execution_count": 11,
     "metadata": {},
     "output_type": "execute_result"
    }
   ],
   "source": [
    "model.eval()"
   ]
  },
  {
   "cell_type": "markdown",
   "id": "thermal-replica",
   "metadata": {},
   "source": [
    "## Metropolis-Hastings"
   ]
  },
  {
   "cell_type": "code",
   "execution_count": 12,
   "id": "aggressive-africa",
   "metadata": {},
   "outputs": [
    {
     "data": {
      "text/plain": [
       "tensor([[ 2.0442, -1.4689],\n",
       "        [ 0.3230, -3.4761],\n",
       "        [-0.5477, -3.4889],\n",
       "        [ 0.2810, -3.1008]], device='cuda:0')"
      ]
     },
     "execution_count": 12,
     "metadata": {},
     "output_type": "execute_result"
    }
   ],
   "source": [
    "theta_star = torch.tensor([0.7, -2.9, -1., -0.9,  0.6]).to(device)\n",
    "x_star = simulator(theta_star)\n",
    "x_star"
   ]
  },
  {
   "cell_type": "code",
   "execution_count": 13,
   "id": "sitting-seller",
   "metadata": {},
   "outputs": [],
   "source": [
    "x_star = x_star.expand((1024,) + x_star.shape)"
   ]
  },
  {
   "cell_type": "markdown",
   "id": "martial-producer",
   "metadata": {},
   "source": [
    "### Likelihood"
   ]
  },
  {
   "cell_type": "code",
   "execution_count": 14,
   "id": "offensive-cameroon",
   "metadata": {
    "scrolled": false
   },
   "outputs": [],
   "source": [
    "sampler = TractableSampler(simulator, x_star)\n",
    "\n",
    "thetas = sampler(1024)\n",
    "thetas = torch.cat(thetas).numpy()"
   ]
  },
  {
   "cell_type": "code",
   "execution_count": 15,
   "id": "cosmetic-innocent",
   "metadata": {},
   "outputs": [
    {
     "data": {
      "image/png": "[encoded data removed]",
      "text/plain": [
       "<Figure size 432x288 with 2 Axes>"
      ]
     },
     "metadata": {
      "needs_background": "light"
     },
     "output_type": "display_data"
    }
   ],
   "source": [
    "plt.hist2d(thetas[:, 2], thetas[:, 4], (50, 50))\n",
    "plt.colorbar()\n",
    "plt.axis('square')\n",
    "plt.show()"
   ]
  },
  {
   "cell_type": "markdown",
   "id": "found-heather",
   "metadata": {},
   "source": [
    "### Likelihood-free"
   ]
  },
  {
   "cell_type": "code",
   "execution_count": 16,
   "id": "accessible-mission",
   "metadata": {},
   "outputs": [],
   "source": [
    "z_star = model.encoder(x_star)"
   ]
  },
  {
   "cell_type": "code",
   "execution_count": 17,
   "id": "freelance-external",
   "metadata": {},
   "outputs": [],
   "source": [
    "mask, nre = model[11]\n",
    "prior = Independent(Uniform(simulator.low[mask], simulator.high[mask]), 1)"
   ]
  },
  {
   "cell_type": "code",
   "execution_count": 18,
   "id": "welcome-voice",
   "metadata": {},
   "outputs": [],
   "source": [
    "sampler = NRESampler(prior, nre, z_star)\n",
    "\n",
    "thetas = sampler(512)\n",
    "thetas = torch.cat(thetas).numpy()"
   ]
  },
  {
   "cell_type": "code",
   "execution_count": 19,
   "id": "adopted-focus",
   "metadata": {
    "scrolled": false
   },
   "outputs": [
    {
     "data": {
      "image/png": "[encoded data removed]",
      "text/plain": [
       "<Figure size 432x288 with 2 Axes>"
      ]
     },
     "metadata": {
      "needs_background": "light"
     },
     "output_type": "display_data"
    }
   ],
   "source": [
    "plt.hist2d(thetas[:, 0], thetas[:, 1], (50, 50))\n",
    "plt.colorbar()\n",
    "plt.axis('square')\n",
    "plt.show()"
   ]
  }
 ],
 "metadata": {
  "kernelspec": {
   "display_name": "Python 3",
   "language": "python",
   "name": "python3"
  },
  "language_info": {
   "codemirror_mode": {
    "name": "ipython",
    "version": 3
   },
   "file_extension": ".py",
   "mimetype": "text/x-python",
   "name": "python",
   "nbconvert_exporter": "python",
   "pygments_lexer": "ipython3",
   "version": "3.8.5"
  }
 },
 "nbformat": 4,
 "nbformat_minor": 5
}
