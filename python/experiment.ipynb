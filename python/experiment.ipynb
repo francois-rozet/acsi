{
 "cells": [
  {
   "cell_type": "code",
   "execution_count": 1,
   "id": "genetic-palace",
   "metadata": {},
   "outputs": [],
   "source": [
    "%load_ext autoreload\n",
    "%autoreload 2"
   ]
  },
  {
   "cell_type": "code",
   "execution_count": 2,
   "id": "warming-thanksgiving",
   "metadata": {},
   "outputs": [],
   "source": [
    "import torch\n",
    "import torch.utils.data as data\n",
    "import torch.optim as optim\n",
    "\n",
    "import matplotlib.pyplot as plt"
   ]
  },
  {
   "cell_type": "markdown",
   "id": "afraid-mexico",
   "metadata": {},
   "source": [
    "# Tractable experiment"
   ]
  },
  {
   "cell_type": "code",
   "execution_count": 3,
   "id": "educational-queen",
   "metadata": {},
   "outputs": [],
   "source": [
    "from simulators import Tractable\n",
    "from datasets import MLTEDataset\n",
    "from models import MLP, ForkClassifier\n",
    "from criterions import ForkLoss"
   ]
  },
  {
   "cell_type": "code",
   "execution_count": 4,
   "id": "median-candidate",
   "metadata": {},
   "outputs": [
    {
     "data": {
      "text/plain": [
       "(tensor([-2.1252, -1.9024, -2.4287,  0.5343, -2.5342]),\n",
       " tensor([ 7.3869, -2.2798,  4.1174, -2.1199, -9.6459, -1.6244, -9.7133, -1.5310]))"
      ]
     },
     "execution_count": 4,
     "metadata": {},
     "output_type": "execute_result"
    }
   ],
   "source": [
    "simulator = Tractable()\n",
    "simulator.sample()"
   ]
  },
  {
   "cell_type": "code",
   "execution_count": 5,
   "id": "frozen-private",
   "metadata": {},
   "outputs": [
    {
     "data": {
      "text/plain": [
       "tensor([[ True, False, False, False, False],\n",
       "        [False,  True, False, False, False],\n",
       "        [False, False,  True, False, False],\n",
       "        [False, False, False,  True, False],\n",
       "        [False, False, False, False,  True]])"
      ]
     },
     "execution_count": 5,
     "metadata": {},
     "output_type": "execute_result"
    }
   ],
   "source": [
    "subsets = torch.eye(simulator.theta_size[0]).bool()\n",
    "subsets"
   ]
  },
  {
   "cell_type": "code",
   "execution_count": 6,
   "id": "capable-pressing",
   "metadata": {},
   "outputs": [
    {
     "data": {
      "text/plain": [
       "tensor([[ True, False, False, False, False],\n",
       "        [ True,  True, False, False, False],\n",
       "        [ True, False,  True, False, False],\n",
       "        [ True, False, False,  True, False],\n",
       "        [ True, False, False, False,  True],\n",
       "        [False,  True, False, False, False],\n",
       "        [False,  True,  True, False, False],\n",
       "        [False,  True, False,  True, False],\n",
       "        [False,  True, False, False,  True],\n",
       "        [False, False,  True, False, False],\n",
       "        [False, False,  True,  True, False],\n",
       "        [False, False,  True, False,  True],\n",
       "        [False, False, False,  True, False],\n",
       "        [False, False, False,  True,  True],\n",
       "        [False, False, False, False,  True]])"
      ]
     },
     "execution_count": 6,
     "metadata": {},
     "output_type": "execute_result"
    }
   ],
   "source": [
    "joint_subsets = []\n",
    "\n",
    "for i in range(5):\n",
    "    for j in range(i, 5):\n",
    "        joint_subsets.append(torch.logical_or(subsets[i], subsets[j]))\n",
    "    \n",
    "joint_subsets = torch.stack(joint_subsets)\n",
    "joint_subsets"
   ]
  },
  {
   "cell_type": "code",
   "execution_count": 7,
   "id": "original-validity",
   "metadata": {},
   "outputs": [],
   "source": [
    "trainset = MLTEDataset(joint_subsets, simulator).simulate(2 ** 17)"
   ]
  },
  {
   "cell_type": "code",
   "execution_count": 8,
   "id": "turkish-vertex",
   "metadata": {},
   "outputs": [],
   "source": [
    "trainloader = data.DataLoader(trainset, batch_size=256, shuffle=True, num_workers=4, pin_memory=True)"
   ]
  },
  {
   "cell_type": "code",
   "execution_count": 9,
   "id": "single-waterproof",
   "metadata": {},
   "outputs": [],
   "source": [
    "encoder = MLP(8, 32, num_layers=3)\n",
    "model = ForkClassifier(encoder, joint_subsets, num_layers=3).cuda()\n",
    "criterion = ForkLoss().cuda()\n",
    "optimizer = optim.Adam(model.parameters(), lr=0.001, amsgrad=True)\n",
    "scheduler = optim.lr_scheduler.ReduceLROnPlateau(optimizer, factor=2e-1, patience=2, threshold=1e-2)"
   ]
  },
  {
   "cell_type": "code",
   "execution_count": 10,
   "id": "numerical-sustainability",
   "metadata": {},
   "outputs": [
    {
     "name": "stdout",
     "output_type": "stream",
     "text": [
      "tensor(1.1822)\n",
      "tensor(1.0179)\n",
      "tensor(0.9050)\n",
      "tensor(0.8501)\n",
      "tensor(0.8225)\n",
      "tensor(0.8003)\n",
      "tensor(0.7913)\n",
      "tensor(0.7818)\n",
      "tensor(0.7709)\n",
      "tensor(0.7691)\n",
      "tensor(0.7641)\n",
      "tensor(0.7570)\n",
      "tensor(0.7554)\n",
      "tensor(0.7512)\n",
      "tensor(0.7519)\n",
      "tensor(0.7197)\n",
      "tensor(0.7080)\n",
      "tensor(0.7090)\n",
      "tensor(0.7062)\n",
      "tensor(0.7080)\n",
      "tensor(0.6977)\n",
      "tensor(0.6958)\n",
      "tensor(0.6961)\n",
      "tensor(0.6975)\n",
      "tensor(0.6947)\n",
      "tensor(0.6942)\n",
      "tensor(0.6945)\n",
      "tensor(0.6929)\n",
      "tensor(0.6961)\n",
      "tensor(0.6925)\n",
      "tensor(0.6934)\n",
      "tensor(0.6933)\n",
      "tensor(0.6928)\n",
      "tensor(0.6947)\n",
      "tensor(0.6962)\n",
      "tensor(0.6939)\n",
      "tensor(0.6920)\n",
      "tensor(0.6948)\n",
      "tensor(0.6926)\n",
      "tensor(0.6927)\n",
      "tensor(0.6964)\n",
      "tensor(0.6919)\n",
      "tensor(0.6913)\n",
      "tensor(0.6916)\n",
      "tensor(0.6911)\n",
      "tensor(0.6937)\n",
      "tensor(0.6967)\n",
      "tensor(0.6921)\n",
      "tensor(0.6940)\n",
      "tensor(0.6907)\n"
     ]
    }
   ],
   "source": [
    "model.train()\n",
    "\n",
    "for epoch in range(50):\n",
    "    losses = []\n",
    "    \n",
    "    for thetas, xs, masks in trainloader:\n",
    "        logits = model(xs.cuda(), thetas.cuda())\n",
    "        loss = criterion(logits, masks.cuda(), model.masks)\n",
    "        \n",
    "        losses.append(loss.tolist())\n",
    "        \n",
    "        optimizer.zero_grad()\n",
    "        loss.backward()\n",
    "        optimizer.step()\n",
    "        \n",
    "    loss = torch.tensor(losses).mean()\n",
    "    scheduler.step(loss)\n",
    "    print(loss)"
   ]
  },
  {
   "cell_type": "code",
   "execution_count": 11,
   "id": "aggressive-africa",
   "metadata": {},
   "outputs": [
    {
     "data": {
      "text/plain": [
       "tensor([ 0.7000, -2.9000, -1.0000, -0.9000,  0.6000])"
      ]
     },
     "execution_count": 11,
     "metadata": {},
     "output_type": "execute_result"
    }
   ],
   "source": [
    "simulator.theta_star"
   ]
  },
  {
   "cell_type": "code",
   "execution_count": 12,
   "id": "checked-anxiety",
   "metadata": {},
   "outputs": [
    {
     "data": {
      "text/plain": [
       "tensor([ 0.0696, -3.5250,  0.8090, -2.5929,  0.7216, -2.6038,  2.2792, -2.4092],\n",
       "       device='cuda:0')"
      ]
     },
     "execution_count": 12,
     "metadata": {},
     "output_type": "execute_result"
    }
   ],
   "source": [
    "x_star = simulator(simulator.theta_star.cuda())\n",
    "x_star"
   ]
  },
  {
   "cell_type": "code",
   "execution_count": 13,
   "id": "welcome-voice",
   "metadata": {},
   "outputs": [],
   "source": [
    "model.eval()\n",
    "\n",
    "steps = 120\n",
    "\n",
    "domain = torch.linspace(-3., 3., steps)\n",
    "grids = torch.meshgrid(domain, domain, torch.zeros(1), torch.zeros(1), torch.zeros(1))\n",
    "thetas = torch.stack(grids, dim=-1).view(-1, 5)\n",
    "select = [1]\n",
    "\n",
    "p = []\n",
    "\n",
    "with torch.no_grad():\n",
    "    for val in torch.split(thetas, 256):\n",
    "        logits = model(x_star.repeat(val.size(0), 1), val.cuda(), select)\n",
    "        p.append((logits + 2 * torch.tensor(1. / 6).log()).exp().cpu())\n",
    "        \n",
    "p = torch.cat(p)"
   ]
  },
  {
   "cell_type": "code",
   "execution_count": 14,
   "id": "adopted-focus",
   "metadata": {
    "scrolled": false
   },
   "outputs": [
    {
     "data": {
      "image/png": "[encoded data removed]",
      "text/plain": [
       "<Figure size 432x288 with 2 Axes>"
      ]
     },
     "metadata": {
      "needs_background": "light"
     },
     "output_type": "display_data"
    }
   ],
   "source": [
    "plt.contourf(\n",
    "    thetas[:, 0].view(steps, steps).numpy(),\n",
    "    thetas[:, 1].view(steps, steps).numpy(),\n",
    "    p.view(steps, steps).numpy()\n",
    ")\n",
    "plt.colorbar()\n",
    "plt.axis('square')\n",
    "plt.show()"
   ]
  }
 ],
 "metadata": {
  "kernelspec": {
   "display_name": "Python 3",
   "language": "python",
   "name": "python3"
  },
  "language_info": {
   "codemirror_mode": {
    "name": "ipython",
    "version": 3
   },
   "file_extension": ".py",
   "mimetype": "text/x-python",
   "name": "python",
   "nbconvert_exporter": "python",
   "pygments_lexer": "ipython3",
   "version": "3.8.5"
  }
 },
 "nbformat": 4,
 "nbformat_minor": 5
}
